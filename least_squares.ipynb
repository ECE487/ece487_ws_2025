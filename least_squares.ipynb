{
 "cells": [
  {
   "cell_type": "markdown",
   "id": "82970c44",
   "metadata": {
    "tags": []
   },
   "source": [
    "# Least Squares "
   ]
  },
  {
   "cell_type": "markdown",
   "id": "80063cda-a0bd-4f1a-a27e-6c7c0421d284",
   "metadata": {},
   "source": [
    "**A note on this document**\n",
    "This document is known as a Jupyter notebook; it allows text and executable code to coexist in a very easy-to-read format. Blocks can contain text or executable code. For blocks containing code, press `Shift + Enter`, `Ctrl+Enter`, or click the arrow on the block to run the code. Earlier blocks of code need to be run for the later blocks of code to work."
   ]
  },
  {
   "cell_type": "markdown",
   "id": "fa6cda5d-cfc0-43f1-89ac-6b3904ed493e",
   "metadata": {},
   "source": [
    "## Least Sqaures Regression\n",
    "\n",
    "We need to solve a least squares regression problem to find a linear equation that best fits the measured data. Let the measured data is given by $\\mathbf{y} = (y_1, y_2, \\cdots, y_n)$ and the corresponding values are given by $\\mathbf{x} = (x_1, x_2, \\cdots, x_n)$.\n",
    "\n",
    "The goal is to find $m$ and $b$ such that $y = mx + b$ best approximates the linear relationship between $x$ and $y$.\n",
    "\n",
    "Let's first plot the data"
   ]
  },
  {
   "cell_type": "code",
   "execution_count": null,
   "id": "33ae24f5",
   "metadata": {},
   "outputs": [],
   "source": [
    "import numpy as np\n",
    "import matplotlib.pyplot as plt\n",
    "\n",
    "x = np.array([0, 1, 2, 3])\n",
    "y = np.array([-1, 0.4, 0.7, 2.1])\n",
    "\n",
    "fig = plt.figure(figsize=(4, 3))\n",
    "ax = fig.add_subplot()\n",
    "\n",
    "plt.plot(x, y, \"o\", markersize=5)\n",
    "plt.xlabel(\"x\")\n",
    "plt.ylabel(\"y\")\n",
    "plt.grid(True)\n",
    "plt.show()"
   ]
  },
  {
   "cell_type": "markdown",
   "id": "51376a34",
   "metadata": {},
   "source": [
    "First, we can rewrite the line equation as $y = \\mathbf{c} \\cdot \\mathbf{q}$, where\n",
    "\n",
    "$\\mathbf{c} = \\begin{bmatrix} x & 1\\end{bmatrix}$ and $\\mathbf{q} = \\begin{bmatrix} m \\\\ b\\end{bmatrix} $. That is,\n",
    "\n",
    "$y = mx + b = \\begin{bmatrix} x & 1\\end{bmatrix} \\begin{bmatrix} m \\\\ b\\end{bmatrix} = \\mathbf{c} \\cdot \\mathbf{q}$ \n",
    "\n",
    "Given $\\mathbf{x} = (x_1, x_2, \\cdots, x_n)$ and $\\mathbf{y} = (y_1, y_2, \\cdots, y_n)$, we can obtain\n",
    "\n",
    "$\\begin{bmatrix} -1 \\\\ 0.4 \\\\ 0.7 \\\\ 2.1\\end{bmatrix} = \\begin{bmatrix} 0 & 1 \\\\ 1 & 1 \\\\2 & 1 \\\\3 & 1 \\end{bmatrix} \\begin{bmatrix} m \\\\ b\\end{bmatrix}$  or $\\mathbf{y} = C\\mathbf{q}$, \n",
    "\n",
    "where\n",
    "\n",
    "$C = \\begin{bmatrix} x_1 & 1 \\\\ x_2 & 1 \\\\x_3 & 1 \\\\x_4 & 1 \\end{bmatrix} = \\begin{bmatrix} 0 & 1 \\\\ 1 & 1 \\\\2 & 1 \\\\3 & 1 \\end{bmatrix} $.\n",
    "\n",
    "We can create the $C$ matrix using `np.vstack`"
   ]
  },
  {
   "cell_type": "code",
   "execution_count": null,
   "id": "88c1e09e",
   "metadata": {},
   "outputs": [],
   "source": [
    "# x is a row vector.\n",
    "# Use vstack to append a row vector, [1, 1, ,,, 1] at the end of x.\n",
    "# It will be a 2 by n matrix.\n",
    "# We need to transpose the 2 by n matrix to make it an n by 2 matrix\n",
    "C = np.vstack([x, np.ones(len(x))]).T\n",
    "print(C)"
   ]
  },
  {
   "cell_type": "markdown",
   "id": "c721f931-9fb1-47d3-a48f-1301387d28f2",
   "metadata": {},
   "source": [
    "Now use `np.linalg.lstsq` to solve for $\\mathbf{q}$:"
   ]
  },
  {
   "cell_type": "code",
   "execution_count": null,
   "id": "6cd2763f",
   "metadata": {},
   "outputs": [],
   "source": [
    "q = np.linalg.lstsq(C, y, rcond=None)[0]\n",
    "print(q)\n",
    "# or you can use\n",
    "m, b = np.linalg.lstsq(C, y, rcond=None)[0]\n",
    "print(m, b)"
   ]
  },
  {
   "cell_type": "markdown",
   "id": "72c49259-6aa2-4359-9410-a771e254570d",
   "metadata": {},
   "source": [
    "With $m=0.96$ and $b=-0.89$, the best fitting line is\n",
    "\n",
    "$y = 0.96x-0.89$\n",
    "\n",
    "Let's plot the line, $y = mx + b$ along with the data."
   ]
  },
  {
   "cell_type": "code",
   "execution_count": null,
   "id": "740f60b1",
   "metadata": {},
   "outputs": [],
   "source": [
    "fig = plt.figure(figsize=(4, 3))\n",
    "ax = fig.add_subplot()\n",
    "\n",
    "plt.plot(x, y, \"o\", label=\"measurements\", markersize=5)\n",
    "plt.plot(x, m * x + b, \"r\", label=\"Fitted line\")\n",
    "plt.legend()\n",
    "plt.grid(True)\n",
    "plt.show()"
   ]
  },
  {
   "cell_type": "markdown",
   "id": "7a2d470d-76a6-4081-bb9a-7aa90ca3bf25",
   "metadata": {},
   "source": [
    "## Free fall example\n",
    "\n",
    "\n",
    "Thoroughly go through the contents of `falling_body.ipynb` notebook to gain insight into three distinct techniques used for curve fitting."
   ]
  },
  {
   "cell_type": "markdown",
   "id": "b5dd2d7d-08c7-49c1-a71d-1e4c7ce2043d",
   "metadata": {},
   "source": [
    "## 🚚 Deliverables\n",
    "\n",
    "**Push your code to your repo and submit the output plot in Gradescope.**"
   ]
  },
  {
   "cell_type": "markdown",
   "id": "38f3a30f",
   "metadata": {},
   "source": [
    "### Deliverable 1\n",
    "\n",
    "Suppose you have a capacitor and you're aiming to determine its value. To do this, you set up an RC circuit and supplied it with a 5V DC voltage. After waiting for a few seconds to fully charge the capacitor, you disconnected the power source and gauged the voltage across the capacitor.\n",
    "\n",
    "<div>\n",
    "<center>\n",
    "<img src=\"./figures/RC_Circuit.png\" width=\"200\"/>\n",
    "</center>\n",
    "</div>\n",
    "\n",
    "The voltage across a capacitor in an RC circuit adheres to the equation\n",
    "$v(t) = v_0 e^{-t/\\tau}, t\\geq 0$\n",
    "\n",
    "Your task is to identify the time constant $\\tau$ that most accurately aligns with this model. Additionally, assuming the circuit's resistor measures 1 $k\\Omega$, determine the capacitor's value.    \n",
    "\n",
    "- Hint 1: The time constant in an RC circuit is $\\tau = RC$. \n",
    "- Hint 2: Use the logarithm to find a linear function of $\\tau$.\n",
    "- Hint 3: The initial voltage across the capacitor is $5$ V, i.e., $v_0 =5$ V\n",
    "\n",
    "Use the following measurements of $v(t)$."
   ]
  },
  {
   "cell_type": "code",
   "execution_count": null,
   "id": "56bdc06a",
   "metadata": {},
   "outputs": [],
   "source": [
    "t = np.arange(0, 1, 0.01)\n",
    "\n",
    "v = np.array(\n",
    "    [\n",
    "        5.01244283,\n",
    "        4.88438776,\n",
    "        4.61866927,\n",
    "        4.60894011,\n",
    "        4.41004693,\n",
    "        4.23826769,\n",
    "        4.14274337,\n",
    "        4.00588297,\n",
    "        3.88199414,\n",
    "        3.70225232,\n",
    "        3.58355439,\n",
    "        3.43455927,\n",
    "        3.30474357,\n",
    "        3.18078036,\n",
    "        3.07476507,\n",
    "        2.96726969,\n",
    "        2.89063642,\n",
    "        2.80789063,\n",
    "        2.69423508,\n",
    "        2.49191736,\n",
    "        2.50954028,\n",
    "        2.44712497,\n",
    "        2.38835945,\n",
    "        2.30025698,\n",
    "        2.13790825,\n",
    "        2.01659547,\n",
    "        2.07912399,\n",
    "        2.00577069,\n",
    "        1.92508211,\n",
    "        1.7565095,\n",
    "        1.7865158,\n",
    "        1.78987426,\n",
    "        1.56199575,\n",
    "        1.72613664,\n",
    "        1.58584813,\n",
    "        1.51952741,\n",
    "        1.49326173,\n",
    "        1.40786616,\n",
    "        1.32605959,\n",
    "        1.22720959,\n",
    "        1.19448915,\n",
    "        1.20467148,\n",
    "        1.12784961,\n",
    "        1.1784009,\n",
    "        1.10309822,\n",
    "        1.09199671,\n",
    "        1.05440677,\n",
    "        0.92322795,\n",
    "        0.95694284,\n",
    "        0.90854489,\n",
    "        0.97174071,\n",
    "        0.81287511,\n",
    "        0.82147023,\n",
    "        0.8520071,\n",
    "        0.86750312,\n",
    "        0.70163675,\n",
    "        0.77931194,\n",
    "        0.73922824,\n",
    "        0.69029541,\n",
    "        0.6377564,\n",
    "        0.58477345,\n",
    "        0.61595619,\n",
    "        0.59972651,\n",
    "        0.51719116,\n",
    "        0.50915179,\n",
    "        0.57589605,\n",
    "        0.5485081,\n",
    "        0.51194423,\n",
    "        0.50774903,\n",
    "        0.46536343,\n",
    "        0.40064362,\n",
    "        0.4548967,\n",
    "        0.37060314,\n",
    "        0.44504432,\n",
    "        0.40862983,\n",
    "        0.38155415,\n",
    "        0.32950763,\n",
    "        0.38447669,\n",
    "        0.31214141,\n",
    "        0.29181047,\n",
    "        0.24943998,\n",
    "        0.28925818,\n",
    "        0.22684326,\n",
    "        0.25104928,\n",
    "        0.24648863,\n",
    "        0.29750812,\n",
    "        0.16686111,\n",
    "        0.26215788,\n",
    "        0.17941954,\n",
    "        0.25641971,\n",
    "        0.17907152,\n",
    "        0.22507161,\n",
    "        0.1988562,\n",
    "        0.26396801,\n",
    "        0.17906211,\n",
    "        0.18801865,\n",
    "        0.16303685,\n",
    "        0.19193568,\n",
    "        0.18761862,\n",
    "        0.12386653,\n",
    "    ]\n",
    ")\n",
    "\n",
    "# plot the data\n",
    "fig = plt.figure(figsize=(4, 3))\n",
    "ax = fig.add_subplot()\n",
    "plt.plot(t, v, \"o\", label=\"measurements\", markersize=3)\n",
    "plt.legend()\n",
    "plt.xlabel(\"time (sec)\")\n",
    "plt.ylabel(\"voltage (V)\")\n",
    "plt.grid(True)"
   ]
  },
  {
   "cell_type": "markdown",
   "id": "14c25823",
   "metadata": {},
   "source": [
    "The voltage across the capacitor is given by $v(t) = v_0 e^{-t/\\tau}$, which is a nonlinear function of $\\tau$. By taking the logarithm on both side, we derive\n",
    "\n",
    "$ \\log (\\frac{v}{v_0}) = -t/\\tau$\n",
    "\n",
    "Rearranging the equation yields\n",
    "\n",
    "$ t = -\\log (\\frac{v}{v_0}) \\tau$\n",
    "\n",
    "As a result, the measuremts can be redefined in terms of $t$ and $\\mathbf{x} \\coloneqq -\\log (\\frac{\\mathbf{v}}{v_0})$.  With this, we can establish a linear equation of $\\tau$ given by\n",
    "\n",
    "$ \\mathbf{t} = \\mathbf{x} \\tau$, \n",
    "\n",
    "where $\\mathbf{t} \\in \\mathbb{R}^n$ and $\\mathbf{x} \\in \\mathbb{R}^n$ represents measurement vectors of dimensions $n\\times 1$.\n",
    "\n",
    "\n",
    "\n"
   ]
  },
  {
   "cell_type": "code",
   "execution_count": null,
   "id": "98aa5d7e",
   "metadata": {},
   "outputs": [],
   "source": [
    "# Add your code to find the optimal value of the time constant, \\tau\n",
    "\n",
    "\n",
    "# print the time constant\n",
    "print(tau)\n",
    "\n",
    "# find the capacitor value for R = 1K.\n",
    "\n",
    "\n",
    "# plot the measured data along with the fitted line.\n",
    "# Don't forget to add labels, units, and legend."
   ]
  },
  {
   "cell_type": "markdown",
   "id": "4970728a",
   "metadata": {},
   "source": [
    "Report the time constant $\\tau$ and the capacitance $C$ and submit a plot of the fitted line with the measurements. "
   ]
  },
  {
   "cell_type": "markdown",
   "id": "925fe8b6-0f76-4bc5-8521-929c3f464c40",
   "metadata": {},
   "source": [
    "### Deliverable 2\n",
    "\n",
    "The following data pertains to the houses found in a given California district and some summary stats about them based on the 1990 census data."
   ]
  },
  {
   "cell_type": "code",
   "execution_count": null,
   "id": "253a6fc6-21e7-44ed-a428-bdfcc20a3969",
   "metadata": {},
   "outputs": [],
   "source": [
    "from pathlib import Path\n",
    "import pandas as pd\n",
    "import tarfile\n",
    "import urllib.request\n",
    "\n",
    "\n",
    "def load_housing_data():\n",
    "    tarball_path = Path(\"datasets/housing.tgz\")\n",
    "    if not tarball_path.is_file():\n",
    "        Path(\"datasets\").mkdir(parents=True, exist_ok=True)\n",
    "        url = \"https://github.com/ageron/data/raw/main/housing.tgz\"\n",
    "        urllib.request.urlretrieve(url, tarball_path)\n",
    "        with tarfile.open(tarball_path) as housing_tarball:\n",
    "            housing_tarball.extractall(path=\"datasets\")\n",
    "    return pd.read_csv(Path(\"datasets/housing/housing.csv\"))\n",
    "\n",
    "\n",
    "housing = load_housing_data()\n",
    "housing.head()  # The first five rows of data."
   ]
  },
  {
   "cell_type": "markdown",
   "id": "354bf5a7",
   "metadata": {},
   "source": [
    "Let's look at the data size."
   ]
  },
  {
   "cell_type": "code",
   "execution_count": null,
   "id": "8b711154",
   "metadata": {},
   "outputs": [],
   "source": [
    "len(housing)"
   ]
  },
  {
   "cell_type": "markdown",
   "id": "59efe251",
   "metadata": {},
   "source": [
    "Since the dataset includes graphical information (latitude and longitude), it is good idea to create a scatterplot of all the districts to visualize the data. In particular, we are interested in the median income, population, and median house value."
   ]
  },
  {
   "cell_type": "code",
   "execution_count": null,
   "id": "5d2819da",
   "metadata": {},
   "outputs": [],
   "source": [
    "import numpy as np\n",
    "import matplotlib.pyplot as plt\n",
    "from matplotlib import cm\n",
    "\n",
    "fig, axes = plt.subplots(nrows=1, ncols=3)\n",
    "\n",
    "\n",
    "housing.plot(\n",
    "    ax=axes[0],\n",
    "    kind=\"scatter\",\n",
    "    x=\"longitude\",\n",
    "    y=\"latitude\",\n",
    "    grid=True,\n",
    "    s=housing[\"population\"] / 100,\n",
    "    label=\"population\",\n",
    "    c=\"median_house_value\",\n",
    "    cmap=\"jet\",\n",
    "    colorbar=True,\n",
    "    legend=True,\n",
    "    sharex=False,\n",
    "    figsize=(14, 4),\n",
    ")\n",
    "housing.plot(\n",
    "    ax=axes[1],\n",
    "    kind=\"scatter\",\n",
    "    x=\"longitude\",\n",
    "    y=\"latitude\",\n",
    "    grid=True,\n",
    "    s=housing[\"median_income\"] * 2,\n",
    "    label=\"median_income\",\n",
    "    c=\"median_income\",\n",
    "    cmap=\"jet\",\n",
    "    colorbar=True,\n",
    "    legend=True,\n",
    "    sharex=False,\n",
    "    figsize=(14, 4),\n",
    ")\n",
    "housing.plot(\n",
    "    ax=axes[2],\n",
    "    kind=\"scatter\",\n",
    "    x=\"longitude\",\n",
    "    y=\"latitude\",\n",
    "    grid=True,\n",
    "    s=housing[\"median_house_value\"] / 50000,\n",
    "    label=\"median_house_value\",\n",
    "    c=\"median_house_value\",\n",
    "    cmap=\"jet\",\n",
    "    colorbar=True,\n",
    "    legend=True,\n",
    "    sharex=False,\n",
    "    figsize=(14, 4),\n",
    ")"
   ]
  },
  {
   "cell_type": "markdown",
   "id": "c7343478",
   "metadata": {},
   "source": []
  },
  {
   "cell_type": "code",
   "execution_count": null,
   "id": "830eb634",
   "metadata": {},
   "outputs": [],
   "source": [
    "value = housing[\"median_house_value\"]\n",
    "population = housing[\"population\"]\n",
    "income = housing[\"median_income\"]"
   ]
  },
  {
   "cell_type": "markdown",
   "id": "a6c98cd7",
   "metadata": {},
   "source": [
    "Our objective is to predict the value of houses in a specific neighborhood based on the population and median income. The linear model we're interested in can be expressed as:\n",
    "\n",
    "$v = w_2 * x + w_1 * y + w_0$\n",
    "\n",
    "where $v$ represents the house value; $x$ represents the median income, and $y$ represents the population.  Essentially, our aim is to determine the values of  $\\mathbf{w} = [w_2 \\quad w_1 \\quad w_0]^\\top$ that minimize the disparities between the training set and the model's predictions.\n",
    "\n",
    "To begin, let's establish a linear relationship:\n",
    "\n",
    "$\\mathbf{v} = C \\mathbf{w}$.\n",
    "\n"
   ]
  },
  {
   "cell_type": "code",
   "execution_count": null,
   "id": "30077b4d",
   "metadata": {},
   "outputs": [],
   "source": [
    "# Construct the C matrix"
   ]
  },
  {
   "cell_type": "markdown",
   "id": "6e45eddf",
   "metadata": {},
   "source": [
    "Utilize the least square estimation technique to determine the coefficients of the linear equation, $\\mathbf{w}$."
   ]
  },
  {
   "cell_type": "code",
   "execution_count": null,
   "id": "a9f89132",
   "metadata": {},
   "outputs": [],
   "source": [
    "w = [0, 0, 0]  # replace this line\n",
    "print(w)"
   ]
  },
  {
   "cell_type": "markdown",
   "id": "27bfb82f",
   "metadata": {},
   "source": [
    "Let's plot the model in 3D."
   ]
  },
  {
   "cell_type": "code",
   "execution_count": null,
   "id": "6d439138",
   "metadata": {},
   "outputs": [],
   "source": [
    "# plot the surface\n",
    "from matplotlib import cm\n",
    "\n",
    "x = np.linspace(0, 15, 100)\n",
    "y = np.linspace(0, 35000, 100)\n",
    "\n",
    "x, y = np.meshgrid(x, y)\n",
    "\n",
    "z = w[2] * x + w[1] * y + w[0]\n",
    "\n",
    "plt3d = plt.figure(figsize=(7, 5))\n",
    "ax = plt3d.add_subplot(projection=\"3d\")\n",
    "surf = ax.plot_surface(x, y, z, alpha=1, cmap=cm.coolwarm)\n",
    "plt3d.colorbar(surf, shrink=0.75)\n",
    "ax.set_xlabel(\"median income\")\n",
    "ax.set_ylabel(\"population\")\n",
    "ax.set_zlabel(\"meadian house value\")"
   ]
  },
  {
   "cell_type": "markdown",
   "id": "f26a48a5",
   "metadata": {},
   "source": [
    "In Gradescope, submit the above plot and provide a concise explanation of how the population is related to the house values, as well as how the median income is linked to the house values."
   ]
  }
 ],
 "metadata": {
  "kernelspec": {
   "display_name": "Python 3 (ipykernel)",
   "language": "python",
   "name": "python3"
  },
  "language_info": {
   "codemirror_mode": {
    "name": "ipython",
    "version": 3
   },
   "file_extension": ".py",
   "mimetype": "text/x-python",
   "name": "python",
   "nbconvert_exporter": "python",
   "pygments_lexer": "ipython3",
   "version": "3.11.1"
  }
 },
 "nbformat": 4,
 "nbformat_minor": 5
}
