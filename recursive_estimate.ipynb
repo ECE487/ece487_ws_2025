{
 "cells": [
  {
   "cell_type": "markdown",
   "metadata": {},
   "source": [
    "### Recursive Estimate"
   ]
  },
  {
   "cell_type": "markdown",
   "metadata": {},
   "source": [
    "**A note on this document**\n",
    "This document is known as a Jupyter notebook; it allows text and executable code to coexist in a very easy-to-read format. Blocks can contain text or executable code. For blocks containing code, press `Shift + Enter`, `Ctrl+Enter`, or `click the arrow` on the block to run the code. Earlier blocks of code need to be run for the later blocks of code to work."
   ]
  },
  {
   "cell_type": "markdown",
   "metadata": {},
   "source": [
    "In class, we learned that the optimal estimate of sequential measurements can be calculated recursively using the following equations:\n",
    "\n",
    "$$K_n = \\frac{\\hat{\\sigma}_{n-1}^2}{\\hat{\\sigma}_{n-1}^2 + \\sigma_{n}^2}$$\n",
    "$$\\hat{x}_n = \\hat{x}_{n-1} + K_n(y_n - \\hat{x}_{n-1})$$\n",
    "$$\\hat{\\sigma}_n^2 = (1-K_n)\\hat{\\sigma}_{n-1}^2$$\n",
    "\n",
    "where:\n",
    "\n",
    "- $y_n$ is the measurement of the unknown value $x$ at time step $n$.\n",
    "- $\\sigma_n^2$ is the variance of the measurement $y_n$.\n",
    "- $\\hat{x}_n$ is the optimal estimate of $x$ given the set of measurements $Y_n = {y_1, \\dots, y_n}$.\n",
    "- $\\hat{\\sigma}_n^2$ is the variance (uncertainty) of the optimal estimate $\\hat{x}_n$.\n",
    "- $K_n$ is the Kalman gain at time step $n$.\n",
    "\n",
    "Now, implement the code that sequentially computes the optimal estimate as new measurements arrive."
   ]
  },
  {
   "cell_type": "code",
   "execution_count": null,
   "metadata": {},
   "outputs": [],
   "source": [
    "import numpy as np\n",
    "import matplotlib.pyplot as plt\n",
    "\n",
    "# Parameters\n",
    "mu, sigma = 10, 2  # Mean and standard deviation of the normal distribution\n",
    "N = 100            # Number of data points\n",
    "\n",
    "# Generate random measurements (Y) from a normal distribution\n",
    "Y = np.random.normal(mu, sigma, N)\n",
    "\n",
    "# Preallocate arrays for estimates, uncertainties, and Kalman gains\n",
    "x_hat = np.zeros(N)        # Estimated values\n",
    "sigma_hat = np.zeros(N)    # Estimated uncertainty (standard deviation)\n",
    "K = np.zeros(N)            # Kalman gain\n",
    "\n",
    "\n",
    "################### Write your code ####################################\n",
    "# Initial values for the first measurement\n",
    "# First estimate is simply the first measurement\n",
    "\n",
    "# Initial uncertainty is the given sigma\n",
    "\n",
    "# Kalman gain is 1 at the first step (full reliance on measurement)\n",
    "\n",
    "# Recursive optimal estimate for subsequent measurements\n",
    "for n in range(1, N):\n",
    "\n",
    "\n",
    "\n",
    "\n",
    "\n",
    "\n",
    "\n",
    "\n",
    "\n",
    "# Plotting the results\n",
    "plt.figure(figsize=(5, 4))\n",
    "plt.grid(True)\n",
    "plt.ylim((0, 20))\n",
    "\n",
    "# Plot the original measurements along with the estimated values\n",
    "\n",
    "\n",
    "\n",
    "\n",
    "\n",
    "plt.legend()  # Add a legend to distinguish the plots\n",
    "plt.show()\n"
   ]
  },
  {
   "cell_type": "markdown",
   "metadata": {},
   "source": [
    "Plot the Kalman gains and the variances of the optimal estimate over time steps."
   ]
  },
  {
   "cell_type": "code",
   "execution_count": null,
   "metadata": {},
   "outputs": [],
   "source": [
    "# Create a figure with two subplots, size 10x4 inches\n",
    "plt.figure(figsize=(10, 4))\n",
    "\n",
    "# First subplot: Kalman Gain vs Time Step\n",
    "plt.subplot(1, 2, 1)  # (1 row, 2 columns, 1st plot)\n",
    "\n",
    "\n",
    "\n",
    "# Second subplot: Standard Deviation vs Time Step\n",
    "plt.subplot(1, 2, 2)  # (1 row, 2 columns, 2nd plot)\n",
    "\n",
    "\n"
   ]
  },
  {
   "cell_type": "markdown",
   "metadata": {},
   "source": [
    "Submit the plots on Gradescope."
   ]
  }
 ],
 "metadata": {
  "kernelspec": {
   "display_name": ".venv (3.12.8)",
   "language": "python",
   "name": "python3"
  },
  "language_info": {
   "codemirror_mode": {
    "name": "ipython",
    "version": 3
   },
   "file_extension": ".py",
   "mimetype": "text/x-python",
   "name": "python",
   "nbconvert_exporter": "python",
   "pygments_lexer": "ipython3",
   "version": "3.12.8"
  },
  "orig_nbformat": 4
 },
 "nbformat": 4,
 "nbformat_minor": 2
}
